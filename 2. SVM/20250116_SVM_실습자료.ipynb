{
 "cells": [
  {
   "cell_type": "markdown",
   "metadata": {
    "id": "nmlsR_mGfMmm"
   },
   "source": [
    "#**0. 라이브러리 설치**"
   ]
  },
  {
   "cell_type": "code",
   "execution_count": null,
   "metadata": {
    "colab": {
     "base_uri": "https://localhost:8080/"
    },
    "id": "Q1IqLwCBfIh2",
    "outputId": "a06b7067-f4c0-46f6-ae2e-bcd927039975"
   },
   "outputs": [],
   "source": [
    "!pip install scikit-learn\n",
    "!pip install matplotlib\n",
    "!pip install pandas"
   ]
  },
  {
   "cell_type": "markdown",
   "metadata": {
    "id": "kZr80jOlfrJl"
   },
   "source": [
    "#**1. 라이브러리 import**"
   ]
  },
  {
   "cell_type": "code",
   "execution_count": null,
   "metadata": {
    "id": "pQoFLOqTe1ba"
   },
   "outputs": [],
   "source": [
    "import numpy as np\n",
    "import matplotlib.pyplot as plt\n",
    "from sklearn import svm\n",
    "from sklearn.inspection import DecisionBoundaryDisplay"
   ]
  },
  {
   "cell_type": "markdown",
   "metadata": {
    "id": "-TicHg88gAuc"
   },
   "source": [
    "#**2. 데이터 생성 (수정)**"
   ]
  },
  {
   "cell_type": "code",
   "execution_count": null,
   "metadata": {
    "id": "7Z3zA2nBfEqk"
   },
   "outputs": [],
   "source": [
    "# X, Y 데이터 생성\n",
    "np.random.seed(0)\n",
    "sample_num=50\n",
    "X = np.r_[ [-2,-2]+np.random.randn(sample_num, 2) , [2,2]+ np.random.randn(sample_num, 2)]  #추후 수정 필요\n",
    "Y = np.array([0] * sample_num + [1] * sample_num)\n",
    "#X, Y = make_blobs(n_samples=40, centers=2, random_state=6)"
   ]
  },
  {
   "cell_type": "code",
   "execution_count": null,
   "metadata": {
    "colab": {
     "base_uri": "https://localhost:8080/",
     "height": 564
    },
    "id": "7hQIdXExEIlD",
    "outputId": "26a8f9e9-50d8-4b0d-a640-72eca6b8afdf"
   },
   "outputs": [],
   "source": [
    "# 산점도 그리기\n",
    "plt.figure(figsize=(8, 6))\n",
    "plt.scatter(X[Y == 0, 0], X[Y == 0, 1], color='red', label='Class 0')\n",
    "plt.scatter(X[Y == 1, 0], X[Y == 1, 1], color='blue', label='Class 1')\n",
    "\n",
    "# 그래프 제목과 축 라벨 추가\n",
    "plt.title(\"Scatter plot of X with Y labels\")\n",
    "plt.xlabel(\"X\")\n",
    "plt.ylabel(\"Y\")\n",
    "\n",
    "# 범례 추가\n",
    "plt.legend()\n",
    "\n",
    "# 그래프 출력\n",
    "plt.show()\n"
   ]
  },
  {
   "cell_type": "markdown",
   "metadata": {
    "id": "Nq23qGPeldVd"
   },
   "source": [
    "#**3. SVM 모델 학습 및 시각화**"
   ]
  },
  {
   "cell_type": "code",
   "execution_count": null,
   "metadata": {
    "id": "EDpJpWR4TVl5"
   },
   "outputs": [],
   "source": [
    "def plot_SVM(model):\n",
    "    # 모델 학습\n",
    "    # 그래프 생성\n",
    "    plt.figure(figsize=(10, 8))\n",
    "    ax = plt.gca()  # 현재의 축 가져오기\n",
    "\n",
    "    # 결정 경계 시각화 (DecisionBoundaryDisplay 이용)\n",
    "    DecisionBoundaryDisplay.from_estimator(\n",
    "        model,\n",
    "        X,\n",
    "        plot_method=\"contour\",\n",
    "        colors=\"k\",\n",
    "        levels=[-1, 0, 1],  # -1: 마진 하단, 0: 결정 경계, 1: 마진 상단\n",
    "        linestyles=[\"--\", \"-\", \"--\"],\n",
    "        ax=ax\n",
    "    )\n",
    "\n",
    "    # 각 결정 경계와 마진에 대한 선을 레이블로 표시 (범례 추가용)\n",
    "    decision_boundary_line = plt.Line2D([], [], color='black', linestyle='-', label='Decision Boundary')\n",
    "    margin_lines = plt.Line2D([], [], color='black', linestyle='--', label='Margin')\n",
    "\n",
    "    # 데이터 포인트 시각화 (Y값에 따라 색상 지정)\n",
    "    plt.scatter(X[:, 0], X[:, 1], c=Y, cmap='bwr', edgecolors=\"k\")\n",
    "\n",
    "    # 서포트 벡터 강조\n",
    "    plt.scatter(\n",
    "        model.support_vectors_[:, 0],\n",
    "        model.support_vectors_[:, 1],\n",
    "        s=100,\n",
    "        facecolors=\"none\",\n",
    "        edgecolors=\"k\",\n",
    "        label='Support Vectors'\n",
    "    )\n",
    "\n",
    "    # 축 라벨 추가\n",
    "    plt.xlabel(\"X\")\n",
    "    plt.ylabel(\"Y\")\n",
    "\n",
    "    # 제목 추가\n",
    "    plt.title(f\"SVM_Decision Boundary with Support Vectors\")\n",
    "\n",
    "    # 범례 추가 (결정 경계와 마진을 포함)\n",
    "    plt.legend(handles=[decision_boundary_line, margin_lines, plt.Line2D([], [], marker='o', color='w', markerfacecolor='k', markeredgecolor='k', label='Support Vectors')])\n",
    "\n",
    "    # 그래프 출력\n",
    "    plt.show()\n"
   ]
  },
  {
   "cell_type": "markdown",
   "metadata": {
    "id": "Nq23qGPeldVd"
   },
   "source": [
    "#**모델 생성 및 시각화(실습)**"
   ]
  },
  {
   "cell_type": "code",
   "execution_count": null,
   "metadata": {
    "colab": {
     "base_uri": "https://localhost:8080/",
     "height": 718
    },
    "id": "9zlN1LZ4lQRs",
    "outputId": "ed452d13-2f84-4e9f-c7ea-7f7eb752974f"
   },
   "outputs": [],
   "source": [
    "# 모델 생성 및 시각화\n",
    "C = 1\n",
    "model = ### 빈칸을 채우세요 ### \n",
    "model.fit(X, Y)\n",
    "plot_SVM(model)"
   ]
  },
  {
   "cell_type": "code",
   "execution_count": null,
   "metadata": {
    "colab": {
     "base_uri": "https://localhost:8080/"
    },
    "id": "9N2k1xa7Qrl9",
    "outputId": "d256357d-9c96-4817-ce45-61cdb9b87535"
   },
   "outputs": [],
   "source": [
    "model.get_params()"
   ]
  },
  {
   "cell_type": "markdown",
   "metadata": {
    "id": "X_t8uaJb23Zn"
   },
   "source": [
    "#**Non linear SVM :  polynoimal, rbf, and sigmoid(실습)**"
   ]
  },
  {
   "cell_type": "code",
   "execution_count": null,
   "metadata": {
    "colab": {
     "base_uri": "https://localhost:8080/",
     "height": 718
    },
    "id": "mxxBZ5Wdygs5",
    "outputId": "fe0506d0-bb82-480c-aa66-35883eb2154b"
   },
   "outputs": [],
   "source": [
    "# 모델 생성 및 시각화\n",
    "C = 10\n",
    "model = ### 빈칸을 채우세요 ### \n",
    "model.fit(X, Y)\n",
    "plot_SVM(model)"
   ]
  },
  {
   "cell_type": "markdown",
   "metadata": {
    "id": "V4grJhwH-HSO"
   },
   "source": [
    "#**Hyperparameter tuning plot**"
   ]
  },
  {
   "cell_type": "code",
   "execution_count": null,
   "metadata": {
    "colab": {
     "base_uri": "https://localhost:8080/",
     "height": 976
    },
    "id": "2u8D8sQb7rQy",
    "outputId": "1937d71c-8ba2-406b-96c6-eb74d7027b33"
   },
   "outputs": [],
   "source": [
    "import numpy as np\n",
    "import matplotlib.pyplot as plt\n",
    "from sklearn import svm\n",
    "from sklearn.inspection import DecisionBoundaryDisplay\n",
    "\n",
    "# 데이터 생성\n",
    "np.random.seed(0)\n",
    "sample_num = 50\n",
    "X = np.r_[ [-1, 0] + np.random.randn(sample_num, 2), [2, 2] + np.random.randn(sample_num, 2) ]\n",
    "Y = np.array([0] * sample_num + [1] * sample_num)\n",
    "\n",
    "# 하이퍼파라미터 설정\n",
    "C_values = [0.01, 1, 100]  # C 값들\n",
    "kernels = ['linear', 'rbf', 'poly', 'sigmoid']  # 다양한 커널\n",
    "gammas = ['scale', 'auto', 0.1]  # gamma 값들\n",
    "degrees = [2, 3, 4]  # 다항식 커널을 위한 degree\n",
    "coef0s = [0, 1]  # 다항식과 시그모이드 커널을 위한 coef0\n",
    "\n",
    "# 모델과 경계선을 시각화하는 함수\n",
    "def plot_HTSVM(ax, model, X, Y, title):\n",
    "    model.fit(X, Y)\n",
    "\n",
    "    # 결정 경계 시각화\n",
    "    DecisionBoundaryDisplay.from_estimator(\n",
    "        model,\n",
    "        X,\n",
    "        plot_method=\"contour\",\n",
    "        colors=\"k\",\n",
    "        levels=[-1, 0, 1],\n",
    "        linestyles=[\"--\", \"-\", \"--\"],\n",
    "        ax=ax\n",
    "    )\n",
    "\n",
    "    # 데이터 포인트 시각화\n",
    "    ax.scatter(X[:, 0], X[:, 1], c=Y, cmap='bwr', edgecolors=\"k\")\n",
    "\n",
    "    # 서포트 벡터 시각화\n",
    "    ax.scatter(\n",
    "        model.support_vectors_[:, 0],\n",
    "        model.support_vectors_[:, 1],\n",
    "        s=100,\n",
    "        facecolors=\"none\",\n",
    "        edgecolors=\"k\",\n",
    "        label='Support Vectors'\n",
    "    )\n",
    "\n",
    "    ax.set_title(title)\n",
    "\n",
    "# 시각화를 위한 figure 설정\n",
    "fig, axes = plt.subplots(len(C_values), len(kernels), figsize=(15, 12))\n",
    "plt.subplots_adjust(hspace=0.5)\n",
    "\n",
    "# SVM 모델을 다양한 커널과 C값, gamma값, degree, coef0 값으로 학습 및 시각화\n",
    "for i, C in enumerate(C_values):\n",
    "    for j, kernel in enumerate(kernels):\n",
    "        # 각 커널에 맞는 하이퍼파라미터 설정\n",
    "        if kernel == 'linear':\n",
    "            model = svm.SVC(kernel=kernel, C=C)\n",
    "            title = f'Kernel: {kernel}, C: {C}'\n",
    "        elif kernel == 'rbf':\n",
    "            model = svm.SVC(kernel=kernel, C=C, gamma=gammas[i % len(gammas)])\n",
    "            title = f'Kernel: {kernel}, C: {C}, Gamma: {gammas[i % len(gammas)]}'\n",
    "        elif kernel == 'poly':\n",
    "            model = svm.SVC(kernel=kernel, C=C, degree=degrees[i % len(degrees)], coef0=coef0s[i % len(coef0s)])\n",
    "            title = f'Kernel: {kernel}, C: {C}, Degree: {degrees[i % len(degrees)]}, Coef0: {coef0s[i % len(coef0s)]}'\n",
    "        elif kernel == 'sigmoid':\n",
    "            model = svm.SVC(kernel=kernel, C=C, coef0=coef0s[i % len(coef0s)])\n",
    "            title = f'Kernel: {kernel}, C: {C}, Coef0: {coef0s[i % len(coef0s)]}'\n",
    "\n",
    "        # 각 모델의 결정 경계와 서포트 벡터를 시각화\n",
    "        plot_HTSVM(axes[i, j], model, X, Y, title)\n",
    "\n",
    "# 그래프 출력\n",
    "plt.show()\n"
   ]
  },
  {
   "cell_type": "markdown",
   "metadata": {
    "id": "wCAPc9bPUvA-"
   },
   "source": [
    "#**Kaggle 예제 : Heart disase prediction using SVM**"
   ]
  },
  {
   "cell_type": "code",
   "execution_count": null,
   "metadata": {
    "colab": {
     "base_uri": "https://localhost:8080/",
     "height": 206
    },
    "id": "9Q2GlOEENCW5",
    "outputId": "9b8d4f55-6924-4a7e-dfd5-d842a7fa6cf9"
   },
   "outputs": [],
   "source": [
    "# 라이브러리 및 데이터 import\n",
    "\n",
    "from sklearn.preprocessing import StandardScaler\n",
    "from sklearn.model_selection import train_test_split\n",
    "from sklearn.pipeline import Pipeline\n",
    "from sklearn.linear_model import LogisticRegression\n",
    "from sklearn.metrics import accuracy_score,classification_report\n",
    "from sklearn.svm import SVC\n",
    "from sklearn.model_selection import GridSearchCV\n",
    "import pandas as pd\n",
    "\n",
    "#Loading the CSV file\n",
    "df = pd.read_csv('./data/heart.csv')\n",
    "df.head()"
   ]
  },
  {
   "cell_type": "code",
   "execution_count": null,
   "metadata": {
    "colab": {
     "base_uri": "https://localhost:8080/",
     "height": 255
    },
    "id": "S_XX9hSTOYXq",
    "outputId": "d6d74572-6980-418f-ae76-edbd9b622996"
   },
   "outputs": [],
   "source": [
    "#Preparing the dataset for training\n",
    "df=pd.###빈칸을 채우세요###  # 원-핫 인코딩 : 범주형 데이터를 숫자로 변환하는 방법\n",
    "X = df.drop('HeartDisease', axis=1)\n",
    "y = df['HeartDisease']\n",
    "df.head()"
   ]
  },
  {
   "cell_type": "code",
   "execution_count": null,
   "metadata": {
    "id": "F1t_h_pNPqm4"
   },
   "outputs": [],
   "source": [
    "print(X)\n",
    "print(y)"
   ]
  },
  {
   "cell_type": "code",
   "execution_count": null,
   "metadata": {
    "id": "K_pCcUUaEtQN"
   },
   "outputs": [],
   "source": [
    "#Train-Test Split\n",
    "X_train, X_test, y_train, y_test = train_test_split(X, y, test_size=0.3, random_state=3)"
   ]
  },
  {
   "cell_type": "code",
   "execution_count": null,
   "metadata": {
    "colab": {
     "base_uri": "https://localhost:8080/",
     "height": 80
    },
    "id": "TtKYnxjdOZq_",
    "outputId": "f1b65e45-eea8-47fd-8286-cb31ed666a9b"
   },
   "outputs": [],
   "source": [
    "#Fitting the model on SVC with default parameters\n",
    "model_svc = SVC()\n",
    "model_svc.fit(X_train,y_train)\n"
   ]
  },
  {
   "cell_type": "code",
   "execution_count": null,
   "metadata": {
    "colab": {
     "base_uri": "https://localhost:8080/"
    },
    "id": "4YLCrEA2Zvuo",
    "outputId": "57e964ec-0092-4fcb-9904-9bb47c1ca606"
   },
   "outputs": [],
   "source": [
    "#Evaluationg the trained model\n",
    "pred_svc = model_svc.predict(X_test)\n",
    "accuracy_score(y_test,pred_svc)"
   ]
  },
  {
   "cell_type": "code",
   "execution_count": null,
   "metadata": {
    "colab": {
     "base_uri": "https://localhost:8080/"
    },
    "id": "ztCzQ4rEcaxo",
    "outputId": "7dcc21e1-4fc2-4050-89b0-772dab16bba1"
   },
   "outputs": [],
   "source": [
    "#Building classification report\n",
    "print(classification_report(y_test,pred_svc))"
   ]
  },
  {
   "cell_type": "code",
   "execution_count": null,
   "metadata": {},
   "outputs": [],
   "source": [
    "#데이터 표준화"
   ]
  },
  {
   "cell_type": "code",
   "execution_count": null,
   "metadata": {
    "colab": {
     "base_uri": "https://localhost:8080/"
    },
    "id": "0TcLQ8IgWJ3D",
    "outputId": "68d5b5bc-f6b0-42e1-eb09-ecc740886bed"
   },
   "outputs": [],
   "source": [
    "#Scaling the features using pipeline\n",
    "pipeline = Pipeline([\n",
    "            ('std_scaler',StandardScaler()),\n",
    "                    ])\n",
    "scaled_X_train = pipeline.fit_transform(X_train)\n",
    "scaled_X_test = pipeline.transform(X_test)\n",
    "\n",
    "#Fitting the model on SVC with default parameters\n",
    "model_svc = SVC()\n",
    "model_svc.fit(scaled_X_train,y_train)\n",
    "#Calculating predictions, and accuracy score\n",
    "pred_svc = model_svc.predict(scaled_X_test)\n",
    "accuracy_score(y_test,pred_svc)"
   ]
  },
  {
   "cell_type": "code",
   "execution_count": null,
   "metadata": {
    "colab": {
     "base_uri": "https://localhost:8080/"
    },
    "id": "AniPAlNEOJrV",
    "outputId": "1dff766b-d5fb-4660-c250-67c0473f8aee"
   },
   "outputs": [],
   "source": [
    "#Building classification report\n",
    "print(classification_report(y_test,pred_svc))"
   ]
  },
  {
   "cell_type": "markdown",
   "metadata": {
    "id": "RvJB9a7kYQKK"
   },
   "source": [
    "#**Hyperparamter tuning using Gridsearch**"
   ]
  },
  {
   "cell_type": "code",
   "execution_count": null,
   "metadata": {
    "id": "klml6C_FYPJU"
   },
   "outputs": [],
   "source": [
    "svm = SVC()\n",
    "# param_grid = {'C':[0.01,0.05,0.1,1,10, 100, 1000],'kernel':['linear','rbf'], 'gamma':['scale','auto'] }\n",
    "param_grid = {'C': [0.1, 1, 10, 100, 1000],\n",
    "              'gamma': [1, 0.1, 0.01, 0.001, 0.0001],\n",
    "              'kernel': ['rbf','linear']}\n",
    "grid = GridSearchCV(svm,param_grid)"
   ]
  },
  {
   "cell_type": "code",
   "execution_count": null,
   "metadata": {
    "colab": {
     "base_uri": "https://localhost:8080/",
     "height": 136
    },
    "id": "TCg2SkB-Y0iq",
    "outputId": "0e9dd43e-c6b4-4ede-cb00-54d445e85040"
   },
   "outputs": [],
   "source": [
    "#Fitting the model\n",
    "grid.fit(scaled_X_train,y_train)"
   ]
  },
  {
   "cell_type": "code",
   "execution_count": null,
   "metadata": {
    "colab": {
     "base_uri": "https://localhost:8080/"
    },
    "id": "hi30Ri78Y7Rz",
    "outputId": "2939c836-2a73-4f4a-ab65-f207b1136fb0"
   },
   "outputs": [],
   "source": [
    "#Calculating the accuracy of tuned model\n",
    "grid_svc = grid.predict(scaled_X_test)\n",
    "accuracy_score(y_test,grid_svc)"
   ]
  },
  {
   "cell_type": "code",
   "execution_count": null,
   "metadata": {
    "colab": {
     "base_uri": "https://localhost:8080/"
    },
    "id": "rVbM249-ZAVc",
    "outputId": "1d04e768-ff9c-47c8-8d7b-0fa0f2a24f08"
   },
   "outputs": [],
   "source": [
    "print(grid.best_params_)\n",
    "print(grid.best_estimator_.get_params())"
   ]
  },
  {
   "cell_type": "code",
   "execution_count": null,
   "metadata": {
    "id": "s-Y70PKEOCh0"
   },
   "outputs": [],
   "source": [
    "#Classification report for the tuned model\n",
    "print(classification_report(y_test,grid_svc))\n"
   ]
  },
  {
   "cell_type": "markdown",
   "metadata": {
    "id": "3sjYigN430jN"
   },
   "source": [
    "#**Multi-class classification**"
   ]
  },
  {
   "cell_type": "code",
   "execution_count": null,
   "metadata": {
    "colab": {
     "base_uri": "https://localhost:8080/",
     "height": 564
    },
    "id": "mtMca2Pj3x_-",
    "outputId": "11732a0e-fcb4-4293-c8b1-1a1ff39cf45f",
    "scrolled": true
   },
   "outputs": [],
   "source": [
    "np.random.seed(0)\n",
    "sample_num=100\n",
    "X = np.r_[ [-2 ,4]+np.random.randn(sample_num, 2) , [2,2]+ np.random.randn(sample_num, 2),[0,-1]+ np.random.randn(sample_num, 2)]\n",
    "Y = np.array([0] * sample_num + [1] * sample_num+ [2] * sample_num)\n",
    "\n",
    "# 산점도 그리기\n",
    "plt.figure(figsize=(8, 6))\n",
    "plt.scatter(X[Y == 0, 0], X[Y == 0, 1], color='red', label='Class 0')\n",
    "plt.scatter(X[Y == 1, 0], X[Y == 1, 1], color='blue', label='Class 1')\n",
    "plt.scatter(X[Y == 2, 0], X[Y == 2, 1], color='green', label='Class 2')\n",
    "\n",
    "# 그래프 제목과 축 라벨 추가\n",
    "plt.title(\"Scatter plot of X with Y labels\")\n",
    "plt.xlabel(\"X\")\n",
    "plt.ylabel(\"Y\")\n",
    "\n",
    "# 범례 추가\n",
    "plt.legend()\n",
    "\n",
    "# 그래프 출력\n",
    "plt.show()\n"
   ]
  },
  {
   "cell_type": "code",
   "execution_count": null,
   "metadata": {
    "colab": {
     "base_uri": "https://localhost:8080/",
     "height": 470
    },
    "id": "BSI6Re_O3z4s",
    "outputId": "deb692d9-986b-4459-8e10-25dd157f074d"
   },
   "outputs": [],
   "source": [
    "import numpy as np\n",
    "import matplotlib.pyplot as plt\n",
    "from sklearn import svm\n",
    "from sklearn.datasets import make_classification\n",
    "from sklearn.model_selection import train_test_split\n",
    "from sklearn.metrics import accuracy_score\n",
    "\n",
    "\n",
    "# 학습 및 테스트 데이터 분리\n",
    "X_train, X_test, y_train, y_test = train_test_split(X, Y, test_size=0.3, random_state=42)\n",
    "\n",
    "# 선형 커널을 사용하는 SVM 모델 생성 (기본적으로 OVR 방식 사용)\n",
    "model = ### 빈칸을 캐우세요 ###\n",
    "model.fit(X_train, y_train)\n",
    "\n",
    "# 예측\n",
    "y_pred = model.predict(X_test)\n",
    "\n",
    "# 정확도 출력\n",
    "accuracy = accuracy_score(y_test, y_pred)\n",
    "print(f\"Accuracy: {accuracy:.2f}\")\n",
    "\n",
    "# 데이터 및 결정 경계 시각화\n",
    "plt.scatter(X_train[:, 0], X_train[:, 1], c=y_train, cmap='rainbow', edgecolors='k')\n",
    "plt.title(\"Training data\")\n",
    "plt.show()\n",
    "\n",
    "# 데이터 및 결정 경계 시각화\n",
    "plt.scatter(X_test[:, 0], X_test[:, 1], c=y_test, cmap='rainbow', edgecolors='k')\n",
    "plt.title(\"test data\")\n",
    "plt.show()"
   ]
  },
  {
   "cell_type": "markdown",
   "metadata": {
    "id": "yXfYX5N5m-4N"
   },
   "source": [
    "# Support vector regression (SVR)"
   ]
  },
  {
   "cell_type": "code",
   "execution_count": null,
   "metadata": {
    "id": "FLn8rObCm_QO"
   },
   "outputs": [],
   "source": [
    "import matplotlib.pyplot as plt\n",
    "import numpy as np\n",
    "\n",
    "from sklearn.svm import SVR"
   ]
  },
  {
   "cell_type": "code",
   "execution_count": null,
   "metadata": {
    "colab": {
     "base_uri": "https://localhost:8080/",
     "height": 602
    },
    "id": "ua1M-3EMnIZX",
    "outputId": "72b3657c-4539-46d7-adbb-8b003d3f70d6"
   },
   "outputs": [],
   "source": [
    "X = np.sort(5 * np.random.rand(40, 1), axis=0)\n",
    "y = np.sin(X).ravel()\n",
    "\n",
    "# add noise to targets\n",
    "y[::5] += 3 * (0.5 - np.random.rand(8))\n",
    "\n",
    "\n",
    "# 산점도 그리기\n",
    "plt.figure(figsize=(8, 6))\n",
    "plt.scatter(X, y, color='blue')\n",
    "\n",
    "# 그래프 제목과 축 라벨 추가\n",
    "plt.title(\"Scatter plot of X with Y\")\n",
    "plt.xlabel(\"X\")\n",
    "plt.ylabel(\"Y\")\n",
    "\n",
    "# 범례 추가\n",
    "plt.legend()\n",
    "\n",
    "# 그래프 출력\n",
    "plt.show()\n"
   ]
  },
  {
   "cell_type": "code",
   "execution_count": null,
   "metadata": {
    "id": "gItz-ghvnLN0"
   },
   "outputs": [],
   "source": [
    "svr_rbf = SVR(kernel=\"rbf\", C=100, gamma=0.1, epsilon=0.1)\n",
    "svr_lin = SVR(kernel=\"linear\", C=100, gamma=\"auto\")\n",
    "svr_poly = SVR(kernel=\"poly\", C=100, gamma=\"auto\", degree=3, epsilon=0.1, coef0=1)"
   ]
  },
  {
   "cell_type": "code",
   "execution_count": null,
   "metadata": {
    "colab": {
     "base_uri": "https://localhost:8080/",
     "height": 774
    },
    "id": "hnY3IIA0nMqF",
    "outputId": "151db717-e97e-4901-8ea2-9e9f6eab1290"
   },
   "outputs": [],
   "source": [
    "lw = 2\n",
    "\n",
    "svrs = [svr_rbf, svr_lin, svr_poly]\n",
    "kernel_label = [\"RBF\", \"Linear\", \"Polynomial\"]\n",
    "model_color = [\"m\", \"c\", \"g\"]\n",
    "\n",
    "fig, axes = plt.subplots(nrows=1, ncols=3, figsize=(15, 10), sharey=True)\n",
    "for ix, svr in enumerate(svrs):\n",
    "    axes[ix].plot(\n",
    "        X,\n",
    "        svr.fit(X, y).predict(X),\n",
    "        color=model_color[ix],\n",
    "        lw=lw,\n",
    "        label=\"{} model\".format(kernel_label[ix]),\n",
    "    )\n",
    "    axes[ix].scatter(\n",
    "        X[svr.support_],\n",
    "        y[svr.support_],\n",
    "        facecolor=\"none\",\n",
    "        edgecolor=model_color[ix],\n",
    "        s=50,\n",
    "        label=\"{} support vectors\".format(kernel_label[ix]),\n",
    "    )\n",
    "    axes[ix].scatter(\n",
    "        X[np.setdiff1d(np.arange(len(X)), svr.support_)],\n",
    "        y[np.setdiff1d(np.arange(len(X)), svr.support_)],\n",
    "        facecolor=\"none\",\n",
    "        edgecolor=\"k\",\n",
    "        s=50,\n",
    "        label=\"other training data\",\n",
    "    )\n",
    "    axes[ix].legend(\n",
    "        loc=\"upper center\",\n",
    "        bbox_to_anchor=(0.5, 1.1),\n",
    "        ncol=1,\n",
    "        fancybox=True,\n",
    "        shadow=True,\n",
    "    )\n",
    "\n",
    "fig.text(0.5, 0.04, \"data\", ha=\"center\", va=\"center\")\n",
    "fig.text(0.06, 0.5, \"target\", ha=\"center\", va=\"center\", rotation=\"vertical\")\n",
    "fig.suptitle(\"Support Vector Regression\", fontsize=14)\n",
    "plt.show()"
   ]
  },
  {
   "cell_type": "code",
   "execution_count": null,
   "metadata": {},
   "outputs": [],
   "source": []
  },
  {
   "cell_type": "code",
   "execution_count": null,
   "metadata": {},
   "outputs": [],
   "source": []
  }
 ],
 "metadata": {
  "colab": {
   "provenance": []
  },
  "kernelspec": {
   "display_name": "Python 3 (ipykernel)",
   "language": "python",
   "name": "python3"
  },
  "language_info": {
   "codemirror_mode": {
    "name": "ipython",
    "version": 3
   },
   "file_extension": ".py",
   "mimetype": "text/x-python",
   "name": "python",
   "nbconvert_exporter": "python",
   "pygments_lexer": "ipython3",
   "version": "3.10.12"
  }
 },
 "nbformat": 4,
 "nbformat_minor": 4
}
