{
 "cells": [
  {
   "cell_type": "code",
   "execution_count": null,
   "id": "1606964a-d1a2-40f9-a567-85658ecfe067",
   "metadata": {},
   "outputs": [],
   "source": [
    "!pip install pandas\n",
    "!python -m pip install -U matplotlib\n",
    "!pip install seaborn\n",
    "!pip install scikit-learn\n",
    "!pip install umap-learn"
   ]
  },
  {
   "cell_type": "code",
   "execution_count": null,
   "id": "bd5211ee-7809-4e43-82a7-aa9b2140e2ea",
   "metadata": {},
   "outputs": [],
   "source": [
    "import pandas as pd\n",
    "import numpy as np\n",
    "import matplotlib.pyplot as plt\n",
    "import seaborn as sns\n",
    "from sklearn.impute import KNNImputer\n",
    "from sklearn.manifold import TSNE"
   ]
  },
  {
   "cell_type": "code",
   "execution_count": null,
   "id": "11c96558-1081-4eb4-870e-c1ec911275b8",
   "metadata": {
    "scrolled": true
   },
   "outputs": [],
   "source": [
    "df=pd.read_csv(\"data/electric_motor_temperature_50000.csv\")\n",
    "#https://www.kaggle.com/datasets/wkirgsn/electric-motor-temperature"
   ]
  },
  {
   "cell_type": "code",
   "execution_count": null,
   "id": "81a3a486-7e27-40e3-8b19-b60eb5bfffa2",
   "metadata": {},
   "outputs": [],
   "source": [
    "df.head()"
   ]
  },
  {
   "cell_type": "code",
   "execution_count": null,
   "id": "8fda7bf3-d0a3-405b-8bb5-adcbbad7b7b2",
   "metadata": {},
   "outputs": [],
   "source": [
    "###빈칸을 채우세요###  #실습"
   ]
  },
  {
   "cell_type": "code",
   "execution_count": null,
   "id": "4323c3ae-74fa-484c-92df-5c5eecbbefbf",
   "metadata": {},
   "outputs": [],
   "source": [
    "# KNN Imputer를 사용한 결측치 대체\n",
    "imputer = ###빈칸을 채우세요###\n",
    "df_imputed = pd.DataFrame(imputer.fit_transform(df), columns=df.columns)"
   ]
  },
  {
   "cell_type": "code",
   "execution_count": null,
   "id": "0eb1ace1-ca68-4b9f-b173-0e5ae1344aa2",
   "metadata": {},
   "outputs": [],
   "source": [
    "df_imputed.head()"
   ]
  },
  {
   "cell_type": "code",
   "execution_count": null,
   "id": "5ac73335-1aa9-42b5-a5c7-2a066dc0d9df",
   "metadata": {},
   "outputs": [],
   "source": [
    "df_imputed.isnull().sum() "
   ]
  },
  {
   "cell_type": "code",
   "execution_count": null,
   "id": "6b74fb94-660a-4aae-990e-f60c720495b1",
   "metadata": {},
   "outputs": [],
   "source": [
    "from sklearn.preprocessing import MinMaxScaler, StandardScaler\n",
    "scaler = ###빈칸을 채우세요###\n",
    "df_scaled = pd.DataFrame(scaler.fit_transform(df_imputed), columns=df.columns)"
   ]
  },
  {
   "cell_type": "code",
   "execution_count": null,
   "id": "c53c7dfe-4cb7-40a8-9f2b-dcaef9dee6bd",
   "metadata": {},
   "outputs": [],
   "source": [
    "# Boxplot을 통한 이상치 시각화\n",
    "plt.figure(figsize=(12, 6))\n",
    "sns.boxplot(data=df_scaled)\n",
    "plt.xticks(rotation=-45)\n",
    "plt.title(\"Boxplot of Features\")\n",
    "plt.show()"
   ]
  },
  {
   "cell_type": "code",
   "execution_count": null,
   "id": "54852eb9-304a-44a0-a8f5-82850dc6e173",
   "metadata": {},
   "outputs": [],
   "source": [
    "# IQR 계산\n",
    "Q1 = df_scaled.quantile(0.25)\n",
    "Q3 = df_scaled.quantile(0.75)\n",
    "IQR = Q3 - Q1\n",
    "df_cleaned = df_scaled[~((df_scaled < (Q1 - 1.5 * IQR)) | (df_scaled > (Q3 + 1.5 * IQR))).any(axis=1)]"
   ]
  },
  {
   "cell_type": "code",
   "execution_count": null,
   "id": "afe441eb-bfdc-453d-9cfb-1adec708949a",
   "metadata": {},
   "outputs": [],
   "source": [
    "# Boxplot\n",
    "plt.figure(figsize=(12, 6))\n",
    "sns.boxplot(data=df_cleaned)\n",
    "plt.xticks(rotation=-45)\n",
    "plt.title(\"Boxplot of Features\")\n",
    "plt.show()"
   ]
  },
  {
   "cell_type": "code",
   "execution_count": null,
   "id": "be78d125-dcfa-4a22-b4a9-2275f0677153",
   "metadata": {},
   "outputs": [],
   "source": [
    "# 탐색적 데이터 분석"
   ]
  },
  {
   "cell_type": "code",
   "execution_count": null,
   "id": "2b8cdec3-08e9-4189-a612-588ab928d3cd",
   "metadata": {},
   "outputs": [],
   "source": [
    "###빈칸을 채우세요###"
   ]
  },
  {
   "cell_type": "code",
   "execution_count": null,
   "id": "4d570c9d-0570-485b-b51f-2ca9dc0c7a15",
   "metadata": {
    "scrolled": true
   },
   "outputs": [],
   "source": [
    "df_scaled.describe()"
   ]
  },
  {
   "cell_type": "code",
   "execution_count": null,
   "id": "75cdcaa2-d170-4318-983c-1cd9bb6853a1",
   "metadata": {},
   "outputs": [],
   "source": [
    "df_imputed['time'] = df_imputed.index * 0.5\n",
    "#그래프를 그릴 열 선택\n",
    "features_to_plot =###빈칸을 채우세요###  #q 성분 전압, 토크, 영구자석 온도, 냉각수 온도\n",
    "\n",
    "\n",
    "plt.figure(figsize=(12, 12))\n",
    "colors = ['b', 'g', 'r','y']\n",
    "for i, feature in enumerate(features_to_plot):\n",
    "    plt.subplot(len(features_to_plot), 1, i + 1)\n",
    "    plt.plot(df_imputed['time'], df_imputed[feature], label=feature, color=colors[i])\n",
    "    plt.title(f\"Time Series Plot of {feature}\")\n",
    "    plt.xlabel(\"Time (seconds)\")\n",
    "    plt.ylabel(\"Value\")\n",
    "    plt.grid(True)\n",
    "    plt.legend()\n",
    "\n",
    "# 레이아웃 조정 및 그래프 표시\n",
    "plt.tight_layout()\n",
    "plt.show()"
   ]
  },
  {
   "cell_type": "code",
   "execution_count": null,
   "id": "ca452f2f-5076-4fb2-af02-0103ec1a880b",
   "metadata": {},
   "outputs": [],
   "source": [
    "# 히스토그램 그릴 feature 선택\n",
    "features_to_plot = ###빈칸을 채우세요###\n",
    "\n",
    "# 개별 히스토그램 그리기\n",
    "plt.figure(figsize=(12, 10))\n",
    "\n",
    "for i, feature in enumerate(features_to_plot):\n",
    "    plt.subplot(len(features_to_plot), 1, i + 1)\n",
    "    plt.hist(df_imputed[feature], bins=30, color='dodgerblue', alpha=0.7)\n",
    "    plt.title(f\"Histogram of {feature}\")\n",
    "    plt.xlabel(\"Value\")\n",
    "    plt.ylabel(\"Frequency\")\n",
    "    plt.grid(True)\n",
    "\n",
    "# 레이아웃 조정 및 그래프 표시\n",
    "plt.tight_layout()\n",
    "plt.show()"
   ]
  },
  {
   "cell_type": "code",
   "execution_count": null,
   "id": "b92ccedc-00e8-410d-b14d-bcc567525850",
   "metadata": {},
   "outputs": [],
   "source": [
    "# 변수 간 상관관계 분석\n",
    "df_imputed=df_imputed.drop('time',axis=1)\n",
    "plt.figure(figsize=(12, 10))\n",
    "sns.heatmap(df_imputed.corr(), annot=True, fmt=\".2f\", cmap='coolwarm')\n",
    "plt.title(\"Correlation Matrix\")\n",
    "plt.show()"
   ]
  },
  {
   "cell_type": "code",
   "execution_count": null,
   "id": "a4535149-c9c4-47be-a82e-a858a6355e19",
   "metadata": {},
   "outputs": [],
   "source": []
  },
  {
   "cell_type": "code",
   "execution_count": null,
   "id": "e04a1601-b53d-4e55-91c3-52118ae89115",
   "metadata": {},
   "outputs": [],
   "source": []
  }
 ],
 "metadata": {
  "kernelspec": {
   "display_name": "Python 3 (ipykernel)",
   "language": "python",
   "name": "python3"
  },
  "language_info": {
   "codemirror_mode": {
    "name": "ipython",
    "version": 3
   },
   "file_extension": ".py",
   "mimetype": "text/x-python",
   "name": "python",
   "nbconvert_exporter": "python",
   "pygments_lexer": "ipython3",
   "version": "3.9.12"
  }
 },
 "nbformat": 4,
 "nbformat_minor": 5
}
